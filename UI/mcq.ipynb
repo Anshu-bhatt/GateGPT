{
 "cells": [
  {
   "cell_type": "code",
   "execution_count": 25,
   "id": "9f5b7775-cb63-416b-b4ba-f8588fa78819",
   "metadata": {},
   "outputs": [
    {
     "name": "stdin",
     "output_type": "stream",
     "text": [
      "Enter a topic:  Operating Systems\n"
     ]
    },
    {
     "name": "stdout",
     "output_type": "stream",
     "text": [
      "Q: Which scheduling algorithm is non-preemptive?\n",
      "\n",
      "A) Round Robin\n",
      "B) Shortest Remaining Time First\n",
      "C) First Come First Serve\n",
      "D) Multilevel Queue Scheduling\n",
      "\n",
      "Answer: C\n",
      "\n",
      "Explanation: First Come First Serve (FCFS) is a non-preemptive scheduling algorithm where processes are scheduled in the order of arrival.\n",
      "\n"
     ]
    }
   ],
   "source": [
    "import pandas as pd\n",
    "import time\n",
    "\n",
    "def get_mcqs_by_topic(csv_file, topic):\n",
    "    # Load the dataset\n",
    "    df = pd.read_csv(csv_file)\n",
    "    \n",
    "    # Filter MCQs for the given topic\n",
    "    filtered_df = df[(df['questions__topic'].str.contains(topic, case=False, na=False)) & \n",
    "                     (df['questions__type'] == 'MCQ')]\n",
    "    \n",
    "    # Check if any questions are found\n",
    "    if filtered_df.empty:\n",
    "        print(\"No MCQs found for this topic.\")\n",
    "        return\n",
    "    \n",
    "    # Display all questions first with a 10-second delay between each\n",
    "    for _, row in filtered_df.iterrows():\n",
    "        print(f\"Q: {row['questions__question_text']}\\n\")\n",
    "        print(f\"A) {row['questions__options__A']}\\nB) {row['questions__options__B']}\\n\"\n",
    "              f\"C) {row['questions__options__C']}\\nD) {row['questions__options__D']}\\n\")\n",
    "        time.sleep(10)\n",
    "    \n",
    "    # Display answers and explanations after all questions are shown\n",
    "    for _, row in filtered_df.iterrows():\n",
    "        print(f\"Answer: {row['questions__correct_answer']}\\n\")\n",
    "        print(f\"Explanation: {row['questions__explanation']}\\n\")\n",
    "        time.sleep(3)\n",
    "\n",
    "# Example usage\n",
    "csv_path = \"dataset.csv\"\n",
    "topic_input = input(\"Enter a topic: \")\n",
    "get_mcqs_by_topic(csv_path, topic_input)"
   ]
  },
  {
   "cell_type": "code",
   "execution_count": null,
   "id": "cd9a200e-2e5d-42f0-bc16-c4a5835ebc5e",
   "metadata": {},
   "outputs": [],
   "source": []
  }
 ],
 "metadata": {
  "kernelspec": {
   "display_name": "Python [conda env:base] *",
   "language": "python",
   "name": "conda-base-py"
  },
  "language_info": {
   "codemirror_mode": {
    "name": "ipython",
    "version": 3
   },
   "file_extension": ".py",
   "mimetype": "text/x-python",
   "name": "python",
   "nbconvert_exporter": "python",
   "pygments_lexer": "ipython3",
   "version": "3.12.7"
  }
 },
 "nbformat": 4,
 "nbformat_minor": 5
}
